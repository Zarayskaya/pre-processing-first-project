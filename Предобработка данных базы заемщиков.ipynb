{
 "cells": [
  {
   "cell_type": "markdown",
   "id": "54d998bb",
   "metadata": {
    "deletable": false,
    "editable": false,
    "id": "c81daeeb"
   },
   "source": [
    "# Исследование надежности заемщиков\n"
   ]
  },
  {
   "cell_type": "markdown",
   "id": "979844c8",
   "metadata": {
    "deletable": false,
    "editable": false,
    "id": "827c20bf"
   },
   "source": [
    "Во второй части проекта вы выполните шаги 3 и 4. Их вручную проверит ревьюер.\n",
    "Чтобы вам не пришлось писать код заново для шагов 1 и 2, мы добавили авторские решения в ячейки с кодом. \n",
    "\n"
   ]
  },
  {
   "cell_type": "markdown",
   "id": "f7ad5722",
   "metadata": {
    "deletable": false,
    "editable": false,
    "id": "744d7639"
   },
   "source": [
    "## Откройте таблицу и изучите общую информацию о данных"
   ]
  },
  {
   "cell_type": "markdown",
   "id": "691cb7c2",
   "metadata": {
    "deletable": false,
    "editable": false,
    "id": "e7a14c31"
   },
   "source": [
    "**Задание 1. Импортируйте библиотеку pandas. Считайте данные из csv-файла в датафрейм и сохраните в переменную `data`. Путь к файлу:**\n",
    "\n",
    "`/datasets/data.csv`"
   ]
  },
  {
   "cell_type": "code",
   "execution_count": 72,
   "id": "3e229838",
   "metadata": {},
   "outputs": [],
   "source": [
    "import pandas as pd\n",
    "import matplotlib.pyplot as plt"
   ]
  },
  {
   "cell_type": "code",
   "execution_count": 40,
   "id": "4655958a",
   "metadata": {
    "deletable": false,
    "id": "7bcf75c9"
   },
   "outputs": [],
   "source": [
    "try:\n",
    "    data = pd.read_csv('/datasets/data.csv')\n",
    "except FileNotFoundError:\n",
    "    data = pd.read_csv('https://raw.githubusercontent.com/Zarayskaya/pre-processing-first-project/main/data.csv')"
   ]
  },
  {
   "cell_type": "markdown",
   "id": "e3d651dc",
   "metadata": {
    "deletable": false,
    "editable": false,
    "id": "b8038fe3"
   },
   "source": [
    "**Задание 2. Выведите первые 20 строчек датафрейма `data` на экран.**"
   ]
  },
  {
   "cell_type": "code",
   "execution_count": 41,
   "id": "b947c1cb",
   "metadata": {
    "deletable": false,
    "id": "2a7cab99",
    "outputId": "1a8f3ef2-d323-4ec2-ddf7-89670b5944c4"
   },
   "outputs": [
    {
     "data": {
      "text/html": [
       "<div>\n",
       "<style scoped>\n",
       "    .dataframe tbody tr th:only-of-type {\n",
       "        vertical-align: middle;\n",
       "    }\n",
       "\n",
       "    .dataframe tbody tr th {\n",
       "        vertical-align: top;\n",
       "    }\n",
       "\n",
       "    .dataframe thead th {\n",
       "        text-align: right;\n",
       "    }\n",
       "</style>\n",
       "<table border=\"1\" class=\"dataframe\">\n",
       "  <thead>\n",
       "    <tr style=\"text-align: right;\">\n",
       "      <th></th>\n",
       "      <th>children</th>\n",
       "      <th>days_employed</th>\n",
       "      <th>dob_years</th>\n",
       "      <th>education</th>\n",
       "      <th>education_id</th>\n",
       "      <th>family_status</th>\n",
       "      <th>family_status_id</th>\n",
       "      <th>gender</th>\n",
       "      <th>income_type</th>\n",
       "      <th>debt</th>\n",
       "      <th>total_income</th>\n",
       "      <th>purpose</th>\n",
       "    </tr>\n",
       "  </thead>\n",
       "  <tbody>\n",
       "    <tr>\n",
       "      <th>0</th>\n",
       "      <td>1</td>\n",
       "      <td>-8437.673028</td>\n",
       "      <td>42</td>\n",
       "      <td>высшее</td>\n",
       "      <td>0</td>\n",
       "      <td>женат / замужем</td>\n",
       "      <td>0</td>\n",
       "      <td>F</td>\n",
       "      <td>сотрудник</td>\n",
       "      <td>0</td>\n",
       "      <td>253875.639453</td>\n",
       "      <td>покупка жилья</td>\n",
       "    </tr>\n",
       "    <tr>\n",
       "      <th>1</th>\n",
       "      <td>1</td>\n",
       "      <td>-4024.803754</td>\n",
       "      <td>36</td>\n",
       "      <td>среднее</td>\n",
       "      <td>1</td>\n",
       "      <td>женат / замужем</td>\n",
       "      <td>0</td>\n",
       "      <td>F</td>\n",
       "      <td>сотрудник</td>\n",
       "      <td>0</td>\n",
       "      <td>112080.014102</td>\n",
       "      <td>приобретение автомобиля</td>\n",
       "    </tr>\n",
       "    <tr>\n",
       "      <th>2</th>\n",
       "      <td>0</td>\n",
       "      <td>-5623.422610</td>\n",
       "      <td>33</td>\n",
       "      <td>Среднее</td>\n",
       "      <td>1</td>\n",
       "      <td>женат / замужем</td>\n",
       "      <td>0</td>\n",
       "      <td>M</td>\n",
       "      <td>сотрудник</td>\n",
       "      <td>0</td>\n",
       "      <td>145885.952297</td>\n",
       "      <td>покупка жилья</td>\n",
       "    </tr>\n",
       "    <tr>\n",
       "      <th>3</th>\n",
       "      <td>3</td>\n",
       "      <td>-4124.747207</td>\n",
       "      <td>32</td>\n",
       "      <td>среднее</td>\n",
       "      <td>1</td>\n",
       "      <td>женат / замужем</td>\n",
       "      <td>0</td>\n",
       "      <td>M</td>\n",
       "      <td>сотрудник</td>\n",
       "      <td>0</td>\n",
       "      <td>267628.550329</td>\n",
       "      <td>дополнительное образование</td>\n",
       "    </tr>\n",
       "    <tr>\n",
       "      <th>4</th>\n",
       "      <td>0</td>\n",
       "      <td>340266.072047</td>\n",
       "      <td>53</td>\n",
       "      <td>среднее</td>\n",
       "      <td>1</td>\n",
       "      <td>гражданский брак</td>\n",
       "      <td>1</td>\n",
       "      <td>F</td>\n",
       "      <td>пенсионер</td>\n",
       "      <td>0</td>\n",
       "      <td>158616.077870</td>\n",
       "      <td>сыграть свадьбу</td>\n",
       "    </tr>\n",
       "    <tr>\n",
       "      <th>5</th>\n",
       "      <td>0</td>\n",
       "      <td>-926.185831</td>\n",
       "      <td>27</td>\n",
       "      <td>высшее</td>\n",
       "      <td>0</td>\n",
       "      <td>гражданский брак</td>\n",
       "      <td>1</td>\n",
       "      <td>M</td>\n",
       "      <td>компаньон</td>\n",
       "      <td>0</td>\n",
       "      <td>255763.565419</td>\n",
       "      <td>покупка жилья</td>\n",
       "    </tr>\n",
       "    <tr>\n",
       "      <th>6</th>\n",
       "      <td>0</td>\n",
       "      <td>-2879.202052</td>\n",
       "      <td>43</td>\n",
       "      <td>высшее</td>\n",
       "      <td>0</td>\n",
       "      <td>женат / замужем</td>\n",
       "      <td>0</td>\n",
       "      <td>F</td>\n",
       "      <td>компаньон</td>\n",
       "      <td>0</td>\n",
       "      <td>240525.971920</td>\n",
       "      <td>операции с жильем</td>\n",
       "    </tr>\n",
       "    <tr>\n",
       "      <th>7</th>\n",
       "      <td>0</td>\n",
       "      <td>-152.779569</td>\n",
       "      <td>50</td>\n",
       "      <td>СРЕДНЕЕ</td>\n",
       "      <td>1</td>\n",
       "      <td>женат / замужем</td>\n",
       "      <td>0</td>\n",
       "      <td>M</td>\n",
       "      <td>сотрудник</td>\n",
       "      <td>0</td>\n",
       "      <td>135823.934197</td>\n",
       "      <td>образование</td>\n",
       "    </tr>\n",
       "    <tr>\n",
       "      <th>8</th>\n",
       "      <td>2</td>\n",
       "      <td>-6929.865299</td>\n",
       "      <td>35</td>\n",
       "      <td>ВЫСШЕЕ</td>\n",
       "      <td>0</td>\n",
       "      <td>гражданский брак</td>\n",
       "      <td>1</td>\n",
       "      <td>F</td>\n",
       "      <td>сотрудник</td>\n",
       "      <td>0</td>\n",
       "      <td>95856.832424</td>\n",
       "      <td>на проведение свадьбы</td>\n",
       "    </tr>\n",
       "    <tr>\n",
       "      <th>9</th>\n",
       "      <td>0</td>\n",
       "      <td>-2188.756445</td>\n",
       "      <td>41</td>\n",
       "      <td>среднее</td>\n",
       "      <td>1</td>\n",
       "      <td>женат / замужем</td>\n",
       "      <td>0</td>\n",
       "      <td>M</td>\n",
       "      <td>сотрудник</td>\n",
       "      <td>0</td>\n",
       "      <td>144425.938277</td>\n",
       "      <td>покупка жилья для семьи</td>\n",
       "    </tr>\n",
       "    <tr>\n",
       "      <th>10</th>\n",
       "      <td>2</td>\n",
       "      <td>-4171.483647</td>\n",
       "      <td>36</td>\n",
       "      <td>высшее</td>\n",
       "      <td>0</td>\n",
       "      <td>женат / замужем</td>\n",
       "      <td>0</td>\n",
       "      <td>M</td>\n",
       "      <td>компаньон</td>\n",
       "      <td>0</td>\n",
       "      <td>113943.491460</td>\n",
       "      <td>покупка недвижимости</td>\n",
       "    </tr>\n",
       "    <tr>\n",
       "      <th>11</th>\n",
       "      <td>0</td>\n",
       "      <td>-792.701887</td>\n",
       "      <td>40</td>\n",
       "      <td>среднее</td>\n",
       "      <td>1</td>\n",
       "      <td>женат / замужем</td>\n",
       "      <td>0</td>\n",
       "      <td>F</td>\n",
       "      <td>сотрудник</td>\n",
       "      <td>0</td>\n",
       "      <td>77069.234271</td>\n",
       "      <td>покупка коммерческой недвижимости</td>\n",
       "    </tr>\n",
       "    <tr>\n",
       "      <th>12</th>\n",
       "      <td>0</td>\n",
       "      <td>NaN</td>\n",
       "      <td>65</td>\n",
       "      <td>среднее</td>\n",
       "      <td>1</td>\n",
       "      <td>гражданский брак</td>\n",
       "      <td>1</td>\n",
       "      <td>M</td>\n",
       "      <td>пенсионер</td>\n",
       "      <td>0</td>\n",
       "      <td>NaN</td>\n",
       "      <td>сыграть свадьбу</td>\n",
       "    </tr>\n",
       "    <tr>\n",
       "      <th>13</th>\n",
       "      <td>0</td>\n",
       "      <td>-1846.641941</td>\n",
       "      <td>54</td>\n",
       "      <td>неоконченное высшее</td>\n",
       "      <td>2</td>\n",
       "      <td>женат / замужем</td>\n",
       "      <td>0</td>\n",
       "      <td>F</td>\n",
       "      <td>сотрудник</td>\n",
       "      <td>0</td>\n",
       "      <td>130458.228857</td>\n",
       "      <td>приобретение автомобиля</td>\n",
       "    </tr>\n",
       "    <tr>\n",
       "      <th>14</th>\n",
       "      <td>0</td>\n",
       "      <td>-1844.956182</td>\n",
       "      <td>56</td>\n",
       "      <td>высшее</td>\n",
       "      <td>0</td>\n",
       "      <td>гражданский брак</td>\n",
       "      <td>1</td>\n",
       "      <td>F</td>\n",
       "      <td>компаньон</td>\n",
       "      <td>1</td>\n",
       "      <td>165127.911772</td>\n",
       "      <td>покупка жилой недвижимости</td>\n",
       "    </tr>\n",
       "    <tr>\n",
       "      <th>15</th>\n",
       "      <td>1</td>\n",
       "      <td>-972.364419</td>\n",
       "      <td>26</td>\n",
       "      <td>среднее</td>\n",
       "      <td>1</td>\n",
       "      <td>женат / замужем</td>\n",
       "      <td>0</td>\n",
       "      <td>F</td>\n",
       "      <td>сотрудник</td>\n",
       "      <td>0</td>\n",
       "      <td>116820.904450</td>\n",
       "      <td>строительство собственной недвижимости</td>\n",
       "    </tr>\n",
       "    <tr>\n",
       "      <th>16</th>\n",
       "      <td>0</td>\n",
       "      <td>-1719.934226</td>\n",
       "      <td>35</td>\n",
       "      <td>среднее</td>\n",
       "      <td>1</td>\n",
       "      <td>женат / замужем</td>\n",
       "      <td>0</td>\n",
       "      <td>F</td>\n",
       "      <td>сотрудник</td>\n",
       "      <td>0</td>\n",
       "      <td>289202.704229</td>\n",
       "      <td>недвижимость</td>\n",
       "    </tr>\n",
       "    <tr>\n",
       "      <th>17</th>\n",
       "      <td>0</td>\n",
       "      <td>-2369.999720</td>\n",
       "      <td>33</td>\n",
       "      <td>высшее</td>\n",
       "      <td>0</td>\n",
       "      <td>гражданский брак</td>\n",
       "      <td>1</td>\n",
       "      <td>M</td>\n",
       "      <td>сотрудник</td>\n",
       "      <td>0</td>\n",
       "      <td>90410.586745</td>\n",
       "      <td>строительство недвижимости</td>\n",
       "    </tr>\n",
       "    <tr>\n",
       "      <th>18</th>\n",
       "      <td>0</td>\n",
       "      <td>400281.136913</td>\n",
       "      <td>53</td>\n",
       "      <td>среднее</td>\n",
       "      <td>1</td>\n",
       "      <td>вдовец / вдова</td>\n",
       "      <td>2</td>\n",
       "      <td>F</td>\n",
       "      <td>пенсионер</td>\n",
       "      <td>0</td>\n",
       "      <td>56823.777243</td>\n",
       "      <td>на покупку подержанного автомобиля</td>\n",
       "    </tr>\n",
       "    <tr>\n",
       "      <th>19</th>\n",
       "      <td>0</td>\n",
       "      <td>-10038.818549</td>\n",
       "      <td>48</td>\n",
       "      <td>СРЕДНЕЕ</td>\n",
       "      <td>1</td>\n",
       "      <td>в разводе</td>\n",
       "      <td>3</td>\n",
       "      <td>F</td>\n",
       "      <td>сотрудник</td>\n",
       "      <td>0</td>\n",
       "      <td>242831.107982</td>\n",
       "      <td>на покупку своего автомобиля</td>\n",
       "    </tr>\n",
       "  </tbody>\n",
       "</table>\n",
       "</div>"
      ],
      "text/plain": [
       "    children  days_employed  dob_years            education  education_id  \\\n",
       "0          1   -8437.673028         42               высшее             0   \n",
       "1          1   -4024.803754         36              среднее             1   \n",
       "2          0   -5623.422610         33              Среднее             1   \n",
       "3          3   -4124.747207         32              среднее             1   \n",
       "4          0  340266.072047         53              среднее             1   \n",
       "5          0    -926.185831         27               высшее             0   \n",
       "6          0   -2879.202052         43               высшее             0   \n",
       "7          0    -152.779569         50              СРЕДНЕЕ             1   \n",
       "8          2   -6929.865299         35               ВЫСШЕЕ             0   \n",
       "9          0   -2188.756445         41              среднее             1   \n",
       "10         2   -4171.483647         36               высшее             0   \n",
       "11         0    -792.701887         40              среднее             1   \n",
       "12         0            NaN         65              среднее             1   \n",
       "13         0   -1846.641941         54  неоконченное высшее             2   \n",
       "14         0   -1844.956182         56               высшее             0   \n",
       "15         1    -972.364419         26              среднее             1   \n",
       "16         0   -1719.934226         35              среднее             1   \n",
       "17         0   -2369.999720         33               высшее             0   \n",
       "18         0  400281.136913         53              среднее             1   \n",
       "19         0  -10038.818549         48              СРЕДНЕЕ             1   \n",
       "\n",
       "       family_status  family_status_id gender income_type  debt  \\\n",
       "0    женат / замужем                 0      F   сотрудник     0   \n",
       "1    женат / замужем                 0      F   сотрудник     0   \n",
       "2    женат / замужем                 0      M   сотрудник     0   \n",
       "3    женат / замужем                 0      M   сотрудник     0   \n",
       "4   гражданский брак                 1      F   пенсионер     0   \n",
       "5   гражданский брак                 1      M   компаньон     0   \n",
       "6    женат / замужем                 0      F   компаньон     0   \n",
       "7    женат / замужем                 0      M   сотрудник     0   \n",
       "8   гражданский брак                 1      F   сотрудник     0   \n",
       "9    женат / замужем                 0      M   сотрудник     0   \n",
       "10   женат / замужем                 0      M   компаньон     0   \n",
       "11   женат / замужем                 0      F   сотрудник     0   \n",
       "12  гражданский брак                 1      M   пенсионер     0   \n",
       "13   женат / замужем                 0      F   сотрудник     0   \n",
       "14  гражданский брак                 1      F   компаньон     1   \n",
       "15   женат / замужем                 0      F   сотрудник     0   \n",
       "16   женат / замужем                 0      F   сотрудник     0   \n",
       "17  гражданский брак                 1      M   сотрудник     0   \n",
       "18    вдовец / вдова                 2      F   пенсионер     0   \n",
       "19         в разводе                 3      F   сотрудник     0   \n",
       "\n",
       "     total_income                                 purpose  \n",
       "0   253875.639453                           покупка жилья  \n",
       "1   112080.014102                 приобретение автомобиля  \n",
       "2   145885.952297                           покупка жилья  \n",
       "3   267628.550329              дополнительное образование  \n",
       "4   158616.077870                         сыграть свадьбу  \n",
       "5   255763.565419                           покупка жилья  \n",
       "6   240525.971920                       операции с жильем  \n",
       "7   135823.934197                             образование  \n",
       "8    95856.832424                   на проведение свадьбы  \n",
       "9   144425.938277                 покупка жилья для семьи  \n",
       "10  113943.491460                    покупка недвижимости  \n",
       "11   77069.234271       покупка коммерческой недвижимости  \n",
       "12            NaN                         сыграть свадьбу  \n",
       "13  130458.228857                 приобретение автомобиля  \n",
       "14  165127.911772              покупка жилой недвижимости  \n",
       "15  116820.904450  строительство собственной недвижимости  \n",
       "16  289202.704229                            недвижимость  \n",
       "17   90410.586745              строительство недвижимости  \n",
       "18   56823.777243      на покупку подержанного автомобиля  \n",
       "19  242831.107982            на покупку своего автомобиля  "
      ]
     },
     "execution_count": 41,
     "metadata": {},
     "output_type": "execute_result"
    }
   ],
   "source": [
    "data.head(20)"
   ]
  },
  {
   "cell_type": "markdown",
   "id": "c7a85450",
   "metadata": {
    "deletable": false,
    "editable": false,
    "id": "1c12e233"
   },
   "source": [
    "**Задание 3. Выведите основную информацию о датафрейме с помощью метода `info()`.**"
   ]
  },
  {
   "cell_type": "code",
   "execution_count": 42,
   "id": "a61efdd9",
   "metadata": {
    "deletable": false,
    "id": "2b757bca",
    "outputId": "15376089-8dad-46c9-b520-c05248d43158"
   },
   "outputs": [
    {
     "name": "stdout",
     "output_type": "stream",
     "text": [
      "<class 'pandas.core.frame.DataFrame'>\n",
      "RangeIndex: 21525 entries, 0 to 21524\n",
      "Data columns (total 12 columns):\n",
      " #   Column            Non-Null Count  Dtype  \n",
      "---  ------            --------------  -----  \n",
      " 0   children          21525 non-null  int64  \n",
      " 1   days_employed     19351 non-null  float64\n",
      " 2   dob_years         21525 non-null  int64  \n",
      " 3   education         21525 non-null  object \n",
      " 4   education_id      21525 non-null  int64  \n",
      " 5   family_status     21525 non-null  object \n",
      " 6   family_status_id  21525 non-null  int64  \n",
      " 7   gender            21525 non-null  object \n",
      " 8   income_type       21525 non-null  object \n",
      " 9   debt              21525 non-null  int64  \n",
      " 10  total_income      19351 non-null  float64\n",
      " 11  purpose           21525 non-null  object \n",
      "dtypes: float64(2), int64(5), object(5)\n",
      "memory usage: 2.0+ MB\n"
     ]
    }
   ],
   "source": [
    "data.info()"
   ]
  },
  {
   "cell_type": "markdown",
   "id": "4cc16172",
   "metadata": {
    "deletable": false,
    "editable": false,
    "id": "333ec665"
   },
   "source": [
    "## Предобработка данных"
   ]
  },
  {
   "cell_type": "markdown",
   "id": "1ad38b09",
   "metadata": {
    "deletable": false,
    "editable": false,
    "id": "02d92d53"
   },
   "source": [
    "### Удаление пропусков"
   ]
  },
  {
   "cell_type": "markdown",
   "id": "fb3f8de6",
   "metadata": {
    "deletable": false,
    "editable": false,
    "id": "cd84967c"
   },
   "source": [
    "**Задание 4. Выведите количество пропущенных значений для каждого столбца. Используйте комбинацию двух методов.**"
   ]
  },
  {
   "cell_type": "code",
   "execution_count": 43,
   "id": "feca6790",
   "metadata": {
    "deletable": false,
    "id": "7f9b2309",
    "outputId": "81f4d817-781c-465c-ed15-91ce4446810d"
   },
   "outputs": [
    {
     "data": {
      "text/plain": [
       "children               0\n",
       "days_employed       2174\n",
       "dob_years              0\n",
       "education              0\n",
       "education_id           0\n",
       "family_status          0\n",
       "family_status_id       0\n",
       "gender                 0\n",
       "income_type            0\n",
       "debt                   0\n",
       "total_income        2174\n",
       "purpose                0\n",
       "dtype: int64"
      ]
     },
     "execution_count": 43,
     "metadata": {},
     "output_type": "execute_result"
    }
   ],
   "source": [
    "data.isna().sum()"
   ]
  },
  {
   "cell_type": "markdown",
   "id": "15793633",
   "metadata": {
    "deletable": false,
    "editable": false,
    "id": "db86e27b"
   },
   "source": [
    "**Задание 5. В двух столбцах есть пропущенные значения. Один из них — `days_employed`. Пропуски в этом столбце вы обработаете на следующем этапе. Другой столбец с пропущенными значениями — `total_income` — хранит данные о доходах. На сумму дохода сильнее всего влияет тип занятости, поэтому заполнить пропуски в этом столбце нужно медианным значением по каждому типу из столбца `income_type`. Например, у человека с типом занятости `сотрудник` пропуск в столбце `total_income` должен быть заполнен медианным доходом среди всех записей с тем же типом.**"
   ]
  },
  {
   "cell_type": "code",
   "execution_count": 44,
   "id": "468e6590",
   "metadata": {
    "deletable": false,
    "id": "42006a93"
   },
   "outputs": [],
   "source": [
    "for in_type in data['income_type'].unique():\n",
    "    data.loc[(data['income_type']==in_type)&(data['total_income'].isna()),'total_income'] = \\\n",
    "    data.loc[(data['income_type']==in_type),'total_income'].median()"
   ]
  },
  {
   "cell_type": "markdown",
   "id": "ac9dad71",
   "metadata": {
    "deletable": false,
    "editable": false,
    "id": "89da5ece"
   },
   "source": [
    "### Обработка аномальных значений"
   ]
  },
  {
   "cell_type": "markdown",
   "id": "aa6a7621",
   "metadata": {
    "deletable": false,
    "editable": false,
    "id": "57964554"
   },
   "source": [
    "**Задание 6. В данных могут встречаться артефакты (аномалии) — значения, которые не отражают действительность и появились по какой-то ошибке. таким артефактом будет отрицательное количество дней трудового стажа в столбце `days_employed`. Для реальных данных это нормально. Обработайте значения в этом столбце: замените все отрицательные значения положительными с помощью метода `abs()`.**"
   ]
  },
  {
   "cell_type": "code",
   "execution_count": 45,
   "id": "1956416a",
   "metadata": {
    "deletable": false,
    "id": "f6f055bf"
   },
   "outputs": [],
   "source": [
    "data['days_employed'] = data['days_employed'].abs()"
   ]
  },
  {
   "cell_type": "markdown",
   "id": "f1244160",
   "metadata": {
    "deletable": false,
    "editable": false,
    "id": "6107dd2f"
   },
   "source": [
    "**Задание 7. Для каждого типа занятости выведите медианное значение трудового стажа `days_employed` в днях.**"
   ]
  },
  {
   "cell_type": "code",
   "execution_count": 46,
   "id": "e45b7f73",
   "metadata": {
    "deletable": false,
    "id": "85a5faf6",
    "outputId": "801ef80e-522b-4668-f34e-565af7432bcf"
   },
   "outputs": [
    {
     "name": "stdout",
     "output_type": "stream",
     "text": [
      "income_type\n",
      "безработный        366413.652744\n",
      "в декрете            3296.759962\n",
      "госслужащий          2689.368353\n",
      "компаньон            1547.382223\n",
      "пенсионер          365213.306266\n",
      "предприниматель       520.848083\n",
      "сотрудник            1574.202821\n",
      "студент               578.751554\n",
      "Name: days_employed, dtype: float64\n"
     ]
    }
   ],
   "source": [
    "print(data.groupby('income_type')['days_employed'].median())"
   ]
  },
  {
   "cell_type": "markdown",
   "id": "7d29e39c",
   "metadata": {
    "deletable": false,
    "editable": false,
    "id": "38d1a030"
   },
   "source": [
    "У двух типов (безработные и пенсионеры) получатся аномально большие значения. Исправить такие значения сложно, поэтому оставьте их как есть. Тем более этот столбец не понадобится вам для исследования."
   ]
  },
  {
   "cell_type": "markdown",
   "id": "6ad7b7c9",
   "metadata": {
    "deletable": false,
    "editable": false,
    "id": "d8a9f147"
   },
   "source": [
    "**Задание 8. Выведите перечень уникальных значений столбца `children`.**"
   ]
  },
  {
   "cell_type": "code",
   "execution_count": 47,
   "id": "801195ac",
   "metadata": {
    "deletable": false,
    "id": "ef5056eb",
    "outputId": "6975b15c-7f95-4697-d16d-a0c79b657b03"
   },
   "outputs": [
    {
     "data": {
      "text/plain": [
       "array([ 1,  0,  3,  2, -1,  4, 20,  5])"
      ]
     },
     "execution_count": 47,
     "metadata": {},
     "output_type": "execute_result"
    }
   ],
   "source": [
    "data['children'].unique()"
   ]
  },
  {
   "cell_type": "markdown",
   "id": "352c5106",
   "metadata": {
    "deletable": false,
    "editable": false,
    "id": "40b9ebf2"
   },
   "source": [
    "**Задание 9. В столбце `children` есть два аномальных значения. Удалите строки, в которых встречаются такие аномальные значения из датафрейма `data`.**"
   ]
  },
  {
   "cell_type": "code",
   "execution_count": 48,
   "id": "f91bf6f0",
   "metadata": {
    "deletable": false,
    "id": "3ff9801d"
   },
   "outputs": [],
   "source": [
    "data = data.loc[(data['children'] != 20) & (data['children'] != (-1))]"
   ]
  },
  {
   "cell_type": "markdown",
   "id": "8908a6af",
   "metadata": {
    "deletable": false,
    "editable": false,
    "id": "bbc4d0ce"
   },
   "source": [
    "**Задание 10. Ещё раз выведите перечень уникальных значений столбца `children`, чтобы убедиться, что артефакты удалены.**"
   ]
  },
  {
   "cell_type": "code",
   "execution_count": 49,
   "id": "3c5f4690",
   "metadata": {
    "deletable": false,
    "id": "ad4fa8b7",
    "outputId": "b2097101-d49d-44d9-901b-32a65c9463d1"
   },
   "outputs": [
    {
     "data": {
      "text/plain": [
       "array([1, 0, 3, 2, 4, 5])"
      ]
     },
     "execution_count": 49,
     "metadata": {},
     "output_type": "execute_result"
    }
   ],
   "source": [
    "data['children'].unique()"
   ]
  },
  {
   "cell_type": "markdown",
   "id": "4ba0a561",
   "metadata": {
    "deletable": false,
    "editable": false,
    "id": "75440b63"
   },
   "source": [
    "### Удаление пропусков (продолжение)"
   ]
  },
  {
   "cell_type": "markdown",
   "id": "4b5c629e",
   "metadata": {
    "deletable": false,
    "editable": false,
    "id": "f4ea573f"
   },
   "source": [
    "**Задание 11. Заполните пропуски в столбце `days_employed` медианными значениями по каждого типа занятости `income_type`.**"
   ]
  },
  {
   "cell_type": "code",
   "execution_count": 50,
   "id": "0f6fffbe",
   "metadata": {
    "deletable": false,
    "id": "af6b1a7e"
   },
   "outputs": [],
   "source": [
    "for in_type in data['income_type'].unique():\n",
    "    data.loc[(data['income_type']==in_type) & (data['days_employed'].isna()), 'days_employed'] = \\\n",
    "    data.loc[data['income_type']==in_type, 'days_employed'].median()"
   ]
  },
  {
   "cell_type": "markdown",
   "id": "0202f041",
   "metadata": {
    "deletable": false,
    "editable": false,
    "id": "2753f40d"
   },
   "source": [
    "**Задание 12. Убедитесь, что все пропуски заполнены. Проверьте себя и ещё раз выведите количество пропущенных значений для каждого столбца с помощью двух методов.**"
   ]
  },
  {
   "cell_type": "code",
   "execution_count": 51,
   "id": "1fc0a0c0",
   "metadata": {
    "deletable": false,
    "id": "55f78bc2",
    "outputId": "8da1e4e1-358e-4e87-98c9-f261bce0a7b2"
   },
   "outputs": [
    {
     "data": {
      "text/plain": [
       "children            0\n",
       "days_employed       0\n",
       "dob_years           0\n",
       "education           0\n",
       "education_id        0\n",
       "family_status       0\n",
       "family_status_id    0\n",
       "gender              0\n",
       "income_type         0\n",
       "debt                0\n",
       "total_income        0\n",
       "purpose             0\n",
       "dtype: int64"
      ]
     },
     "execution_count": 51,
     "metadata": {},
     "output_type": "execute_result"
    }
   ],
   "source": [
    "data.isna().sum()"
   ]
  },
  {
   "cell_type": "markdown",
   "id": "934e9c3c",
   "metadata": {
    "deletable": false,
    "editable": false,
    "id": "ddc81e43"
   },
   "source": [
    "### Изменение типов данных"
   ]
  },
  {
   "cell_type": "markdown",
   "id": "effd06d6",
   "metadata": {
    "deletable": false,
    "editable": false,
    "id": "42d19d24"
   },
   "source": [
    "**Задание 13. Замените вещественный тип данных в столбце `total_income` на целочисленный с помощью метода `astype()`.**"
   ]
  },
  {
   "cell_type": "code",
   "execution_count": 52,
   "id": "0694b6c1",
   "metadata": {
    "deletable": false,
    "id": "920b65ad"
   },
   "outputs": [],
   "source": [
    "data['total_income'] = data['total_income'].astype(int)"
   ]
  },
  {
   "cell_type": "markdown",
   "id": "c2e73270",
   "metadata": {
    "deletable": false,
    "editable": false,
    "id": "80c420ba"
   },
   "source": [
    "### Обработка дубликатов"
   ]
  },
  {
   "cell_type": "markdown",
   "id": "0762f95f",
   "metadata": {
    "deletable": false,
    "editable": false
   },
   "source": [
    "**Задание 14. Обработайте неявные дубликаты в столбце `education`. В этом столбце есть одни и те же значения, но записанные по-разному: с использованием заглавных и строчных букв. Приведите их к нижнему регистру. Проверьте остальные столбцы.**"
   ]
  },
  {
   "cell_type": "code",
   "execution_count": 53,
   "id": "240af321",
   "metadata": {
    "deletable": false
   },
   "outputs": [],
   "source": [
    "data['education'] = data['education'].str.lower()"
   ]
  },
  {
   "cell_type": "markdown",
   "id": "4090ce3b",
   "metadata": {
    "deletable": false,
    "editable": false,
    "id": "dc587695"
   },
   "source": [
    "**Задание 15. Выведите на экран количество строк-дубликатов в данных. Если такие строки присутствуют, удалите их.**"
   ]
  },
  {
   "cell_type": "code",
   "execution_count": 54,
   "id": "d3dc1812",
   "metadata": {
    "deletable": false,
    "id": "3ee445e4",
    "outputId": "9684deba-1934-42d1-99e1-cda61740f822"
   },
   "outputs": [
    {
     "data": {
      "text/plain": [
       "71"
      ]
     },
     "execution_count": 54,
     "metadata": {},
     "output_type": "execute_result"
    }
   ],
   "source": [
    "data.duplicated().sum()"
   ]
  },
  {
   "cell_type": "code",
   "execution_count": 55,
   "id": "6aedd77c",
   "metadata": {
    "deletable": false,
    "id": "8575fe05"
   },
   "outputs": [],
   "source": [
    "data = data.drop_duplicates()"
   ]
  },
  {
   "cell_type": "markdown",
   "id": "b8352456",
   "metadata": {
    "deletable": false,
    "editable": false,
    "id": "9904cf55"
   },
   "source": [
    "### Категоризация данных"
   ]
  },
  {
   "cell_type": "markdown",
   "id": "6e2c167c",
   "metadata": {
    "deletable": false,
    "editable": false,
    "id": "72fcc8a2"
   },
   "source": [
    "**Задание 16. На основании диапазонов, указанных ниже, создайте в датафрейме `data` столбец `total_income_category` с категориями:**\n",
    "\n",
    "- 0–30000 — `'E'`;\n",
    "- 30001–50000 — `'D'`;\n",
    "- 50001–200000 — `'C'`;\n",
    "- 200001–1000000 — `'B'`;\n",
    "- 1000001 и выше — `'A'`.\n",
    "\n",
    "\n",
    "**Например, кредитополучателю с доходом 25000 нужно назначить категорию `'E'`, а клиенту, получающему 235000, — `'B'`. Используйте собственную функцию с именем `categorize_income()` и метод `apply()`.**"
   ]
  },
  {
   "cell_type": "code",
   "execution_count": 56,
   "id": "ac9031d7",
   "metadata": {
    "deletable": false,
    "id": "e1771346"
   },
   "outputs": [],
   "source": [
    "def categorize_income(income):\n",
    "    try:\n",
    "        if 0 <= income <= 30000:\n",
    "            return 'E'\n",
    "        elif 30001 <= income <= 50000:\n",
    "            return 'D'\n",
    "        elif 50001 <= income <= 200000:\n",
    "            return 'C'\n",
    "        elif 200001 <= income <= 1000000:\n",
    "            return 'B'\n",
    "        elif income >= 1000001:\n",
    "            return 'A'\n",
    "    except:\n",
    "        pass"
   ]
  },
  {
   "cell_type": "code",
   "execution_count": 57,
   "id": "a9b65743",
   "metadata": {
    "deletable": false,
    "id": "d5f3586d"
   },
   "outputs": [],
   "source": [
    "data['total_income_category'] = data['total_income'].apply(categorize_income)"
   ]
  },
  {
   "cell_type": "markdown",
   "id": "00611515",
   "metadata": {
    "deletable": false,
    "editable": false,
    "id": "dde49b5c"
   },
   "source": [
    "**Задание 17. Выведите на экран перечень уникальных целей взятия кредита из столбца `purpose`.**"
   ]
  },
  {
   "cell_type": "code",
   "execution_count": 58,
   "id": "1fa988a7",
   "metadata": {
    "deletable": false,
    "id": "f67ce9b3",
    "outputId": "673c12d9-7d7e-4ae0-9812-c622c89dd244"
   },
   "outputs": [
    {
     "data": {
      "text/plain": [
       "array(['покупка жилья', 'приобретение автомобиля',\n",
       "       'дополнительное образование', 'сыграть свадьбу',\n",
       "       'операции с жильем', 'образование', 'на проведение свадьбы',\n",
       "       'покупка жилья для семьи', 'покупка недвижимости',\n",
       "       'покупка коммерческой недвижимости', 'покупка жилой недвижимости',\n",
       "       'строительство собственной недвижимости', 'недвижимость',\n",
       "       'строительство недвижимости', 'на покупку подержанного автомобиля',\n",
       "       'на покупку своего автомобиля',\n",
       "       'операции с коммерческой недвижимостью',\n",
       "       'строительство жилой недвижимости', 'жилье',\n",
       "       'операции со своей недвижимостью', 'автомобили',\n",
       "       'заняться образованием', 'сделка с подержанным автомобилем',\n",
       "       'получение образования', 'автомобиль', 'свадьба',\n",
       "       'получение дополнительного образования', 'покупка своего жилья',\n",
       "       'операции с недвижимостью', 'получение высшего образования',\n",
       "       'свой автомобиль', 'сделка с автомобилем',\n",
       "       'профильное образование', 'высшее образование',\n",
       "       'покупка жилья для сдачи', 'на покупку автомобиля', 'ремонт жилью',\n",
       "       'заняться высшим образованием'], dtype=object)"
      ]
     },
     "execution_count": 58,
     "metadata": {},
     "output_type": "execute_result"
    }
   ],
   "source": [
    "data['purpose'].unique()"
   ]
  },
  {
   "cell_type": "markdown",
   "id": "66177d22",
   "metadata": {
    "deletable": false,
    "editable": false,
    "id": "85d0aef0"
   },
   "source": [
    "**Задание 18. Создайте функцию, которая на основании данных из столбца `purpose` сформирует новый столбец `purpose_category`, в который войдут следующие категории:**\n",
    "\n",
    "- `'операции с автомобилем'`,\n",
    "- `'операции с недвижимостью'`,\n",
    "- `'проведение свадьбы'`,\n",
    "- `'получение образования'`.\n",
    "\n",
    "**Например, если в столбце `purpose` находится подстрока `'на покупку автомобиля'`, то в столбце `purpose_category` должна появиться строка `'операции с автомобилем'`.**\n",
    "\n",
    "**Используйте собственную функцию с именем `categorize_purpose()` и метод `apply()`. Изучите данные в столбце `purpose` и определите, какие подстроки помогут вам правильно определить категорию.**"
   ]
  },
  {
   "cell_type": "code",
   "execution_count": 59,
   "id": "748b2841",
   "metadata": {
    "deletable": false,
    "id": "e149fab4"
   },
   "outputs": [],
   "source": [
    "def categorize_purpose(row):\n",
    "    try:\n",
    "        if 'автом' in row:\n",
    "            return 'операции с автомобилем'\n",
    "        elif 'жил' in row or 'недвиж' in row:\n",
    "            return 'операции с недвижимостью'\n",
    "        elif 'свад' in row:\n",
    "            return 'проведение свадьбы'\n",
    "        elif 'образов' in row:\n",
    "            return 'получение образования'\n",
    "    except:\n",
    "        return 'нет категории'"
   ]
  },
  {
   "cell_type": "code",
   "execution_count": 60,
   "id": "5846e3ad",
   "metadata": {
    "deletable": false,
    "id": "bf36e69b"
   },
   "outputs": [],
   "source": [
    "data['purpose_category'] = data['purpose'].apply(categorize_purpose)"
   ]
  },
  {
   "cell_type": "markdown",
   "id": "c4be9fdc",
   "metadata": {
    "deletable": false,
    "editable": false,
    "id": "09b242bf"
   },
   "source": [
    "### Шаг 3. Исследуйте данные и ответьте на вопросы"
   ]
  },
  {
   "cell_type": "markdown",
   "id": "8774cbdb",
   "metadata": {
    "deletable": false,
    "editable": false,
    "id": "c5d66278"
   },
   "source": [
    "#### 3.1 Есть ли зависимость между количеством детей и возвратом кредита в срок?"
   ]
  },
  {
   "cell_type": "markdown",
   "id": "cde97ff8",
   "metadata": {
    "deletable": false,
    "id": "2cacfc4a"
   },
   "source": [
    "Для определения зависимости между количеством детей и сроком возврата кредита, предлагается определить, какой коэффициент просрочек в каждой категории. Категориями будут выступать количественные значения детей у заемщика."
   ]
  },
  {
   "cell_type": "markdown",
   "id": "b56b5e2c",
   "metadata": {},
   "source": [
    "Таким образом имеем 6 категорий:"
   ]
  },
  {
   "cell_type": "code",
   "execution_count": 61,
   "id": "09128b8a",
   "metadata": {},
   "outputs": [
    {
     "data": {
      "text/plain": [
       "array([1, 0, 3, 2, 4, 5])"
      ]
     },
     "execution_count": 61,
     "metadata": {},
     "output_type": "execute_result"
    }
   ],
   "source": [
    "data['children'].unique() #выводим уникальные значения количества детей у заемщиков"
   ]
  },
  {
   "cell_type": "markdown",
   "id": "1dfcd894",
   "metadata": {},
   "source": [
    "Необходимо определить количество заемщиков по каждой категории, а далее вычислить, какой процент от общего числа заемщиков категории имеет просрочки"
   ]
  },
  {
   "cell_type": "markdown",
   "id": "fd0dd7ef",
   "metadata": {},
   "source": [
    "Посмотрим на общее количество заемщиков:"
   ]
  },
  {
   "cell_type": "code",
   "execution_count": 62,
   "id": "cda090c1",
   "metadata": {
    "scrolled": true
   },
   "outputs": [
    {
     "name": "stdout",
     "output_type": "stream",
     "text": [
      "0    14091\n",
      "1     4808\n",
      "2     2052\n",
      "3      330\n",
      "4       41\n",
      "5        9\n",
      "Name: children, dtype: int64\n"
     ]
    }
   ],
   "source": [
    "children_count = data['children'].value_counts() \n",
    "print(children_count)"
   ]
  },
  {
   "cell_type": "markdown",
   "id": "303ee0cf",
   "metadata": {},
   "source": [
    "Проверим столбец debt, содержащий данные о наличии или отсуствии просрочек у заемщика, на наличие ошибок. Выведем уникальные значения, встречающиеся в столбце"
   ]
  },
  {
   "cell_type": "code",
   "execution_count": 63,
   "id": "2ce7410b",
   "metadata": {},
   "outputs": [
    {
     "data": {
      "text/plain": [
       "array([0, 1])"
      ]
     },
     "execution_count": 63,
     "metadata": {},
     "output_type": "execute_result"
    }
   ],
   "source": [
    "data['debt'].unique()"
   ]
  },
  {
   "cell_type": "markdown",
   "id": "79f4fc3f",
   "metadata": {},
   "source": [
    "Показатель задолженности - целочисленное значение, равное либо нулю (если просрочек не было), либо единице, если просрочки были. Сгруппируем таблицу по количеству детей и просуммируем значения в столбце debt. Таким образом получим количество заемщиков-должников по каждой категории:"
   ]
  },
  {
   "cell_type": "code",
   "execution_count": 64,
   "id": "f574b675",
   "metadata": {},
   "outputs": [
    {
     "name": "stdout",
     "output_type": "stream",
     "text": [
      "children\n",
      "0    1063\n",
      "1     444\n",
      "2     194\n",
      "3      27\n",
      "4       4\n",
      "5       0\n",
      "Name: debt, dtype: int64\n"
     ]
    }
   ],
   "source": [
    "debt_children_count = data.groupby('children')['debt'].sum() #группируем таблицу по количеству детей и суммируем значения в столбце просрочки\n",
    "print(debt_children_count)"
   ]
  },
  {
   "cell_type": "markdown",
   "id": "795b3a4e",
   "metadata": {},
   "source": [
    "Посчитаем коэффициент: разделим количество должников на общее количество заемщиков в категории:"
   ]
  },
  {
   "cell_type": "code",
   "execution_count": 65,
   "id": "50d29463",
   "metadata": {},
   "outputs": [
    {
     "name": "stdout",
     "output_type": "stream",
     "text": [
      "children\n",
      "0    0.075438\n",
      "1    0.092346\n",
      "2    0.094542\n",
      "3    0.081818\n",
      "4    0.097561\n",
      "5    0.000000\n",
      "dtype: float64\n"
     ]
    }
   ],
   "source": [
    "debt_children_coefficient = debt_children_count / children_count #количество просрочек разделим на общее количество заемщиков\n",
    "print(debt_children_coefficient)"
   ]
  },
  {
   "cell_type": "markdown",
   "id": "2868aa95",
   "metadata": {},
   "source": [
    "Теперь для определения рискованных категорий заемщиков, необходимо *выделить метрику, с которой будем сравнивать*. На текущий момент непонятно - является ли 9,2% или 8,1% просрочек в категории критическим значением."
   ]
  },
  {
   "cell_type": "markdown",
   "id": "a9ac62e3",
   "metadata": {},
   "source": [
    "Для этого посчитаем общий процент просрочек по всем заемщикам:"
   ]
  },
  {
   "cell_type": "code",
   "execution_count": 66,
   "id": "4ff7314a",
   "metadata": {},
   "outputs": [
    {
     "name": "stdout",
     "output_type": "stream",
     "text": [
      "0.08119638085415593\n"
     ]
    }
   ],
   "source": [
    "all_debt_coefficient = data['debt'].sum()/data['debt'].count()\n",
    "print(all_debt_coefficient)"
   ]
  },
  {
   "cell_type": "markdown",
   "id": "a7f82989",
   "metadata": {},
   "source": [
    "Теперь все коэффициенты просрочек по категориям будем сравнивать с общим коэффициентом."
   ]
  },
  {
   "cell_type": "markdown",
   "id": "4d0c0143",
   "metadata": {},
   "source": [
    "**Но для упрощения расчетов и более понятной презентации результатов, сделаем сводную таблицу:**"
   ]
  },
  {
   "cell_type": "code",
   "execution_count": 67,
   "id": "07f3448f",
   "metadata": {},
   "outputs": [
    {
     "data": {
      "text/html": [
       "<div>\n",
       "<style scoped>\n",
       "    .dataframe tbody tr th:only-of-type {\n",
       "        vertical-align: middle;\n",
       "    }\n",
       "\n",
       "    .dataframe tbody tr th {\n",
       "        vertical-align: top;\n",
       "    }\n",
       "\n",
       "    .dataframe thead tr th {\n",
       "        text-align: left;\n",
       "    }\n",
       "</style>\n",
       "<table border=\"1\" class=\"dataframe\">\n",
       "  <thead>\n",
       "    <tr>\n",
       "      <th></th>\n",
       "      <th>количество заемщиков</th>\n",
       "      <th>количество просрочек</th>\n",
       "      <th>коэффициент просрочек</th>\n",
       "    </tr>\n",
       "    <tr>\n",
       "      <th></th>\n",
       "      <th></th>\n",
       "      <th></th>\n",
       "      <th></th>\n",
       "    </tr>\n",
       "  </thead>\n",
       "  <tbody>\n",
       "    <tr>\n",
       "      <th>0</th>\n",
       "      <td>14091</td>\n",
       "      <td>1063</td>\n",
       "      <td>0.075438</td>\n",
       "    </tr>\n",
       "    <tr>\n",
       "      <th>1</th>\n",
       "      <td>4808</td>\n",
       "      <td>444</td>\n",
       "      <td>0.092346</td>\n",
       "    </tr>\n",
       "    <tr>\n",
       "      <th>2</th>\n",
       "      <td>2052</td>\n",
       "      <td>194</td>\n",
       "      <td>0.094542</td>\n",
       "    </tr>\n",
       "    <tr>\n",
       "      <th>3</th>\n",
       "      <td>330</td>\n",
       "      <td>27</td>\n",
       "      <td>0.081818</td>\n",
       "    </tr>\n",
       "    <tr>\n",
       "      <th>4</th>\n",
       "      <td>41</td>\n",
       "      <td>4</td>\n",
       "      <td>0.097561</td>\n",
       "    </tr>\n",
       "    <tr>\n",
       "      <th>5</th>\n",
       "      <td>9</td>\n",
       "      <td>0</td>\n",
       "      <td>0.000000</td>\n",
       "    </tr>\n",
       "    <tr>\n",
       "      <th>All</th>\n",
       "      <td>21331</td>\n",
       "      <td>1732</td>\n",
       "      <td>0.081196</td>\n",
       "    </tr>\n",
       "  </tbody>\n",
       "</table>\n",
       "</div>"
      ],
      "text/plain": [
       "    количество заемщиков количество просрочек коэффициент просрочек\n",
       "                                                                   \n",
       "0                  14091                 1063              0.075438\n",
       "1                   4808                  444              0.092346\n",
       "2                   2052                  194              0.094542\n",
       "3                    330                   27              0.081818\n",
       "4                     41                    4              0.097561\n",
       "5                      9                    0              0.000000\n",
       "All                21331                 1732              0.081196"
      ]
     },
     "metadata": {},
     "output_type": "display_data"
    }
   ],
   "source": [
    "data_children_pivot = data.pivot_table(index = 'children', values = 'debt', aggfunc = ['count','sum','mean'], margins=True) #создаем таблицу\n",
    "#причесываем для наглядности - меняем названия столбцов и удаляем название столбца, по которому происходит группировка\n",
    "data_children_pivot = data_children_pivot.rename(columns= \\\n",
    "                    {'count':'количество заемщиков', 'debt': '', 'sum':'количество просрочек', 'mean':'коэффициент просрочек'})\n",
    "data_children_pivot.index.name = None\n",
    "display(data_children_pivot)"
   ]
  },
  {
   "cell_type": "markdown",
   "id": "eb67c87e",
   "metadata": {},
   "source": [
    "Значения в таблице сошлись с предыдущими расчетами. Для удобства трактовки столбец с коэффициентом просрочек приведем к процентному значению."
   ]
  },
  {
   "cell_type": "code",
   "execution_count": 68,
   "id": "616ac204",
   "metadata": {},
   "outputs": [
    {
     "data": {
      "text/html": [
       "<div>\n",
       "<style scoped>\n",
       "    .dataframe tbody tr th:only-of-type {\n",
       "        vertical-align: middle;\n",
       "    }\n",
       "\n",
       "    .dataframe tbody tr th {\n",
       "        vertical-align: top;\n",
       "    }\n",
       "\n",
       "    .dataframe thead tr th {\n",
       "        text-align: left;\n",
       "    }\n",
       "</style>\n",
       "<table border=\"1\" class=\"dataframe\">\n",
       "  <thead>\n",
       "    <tr>\n",
       "      <th></th>\n",
       "      <th>количество заемщиков</th>\n",
       "      <th>количество просрочек</th>\n",
       "      <th>процент просрочек</th>\n",
       "    </tr>\n",
       "    <tr>\n",
       "      <th></th>\n",
       "      <th></th>\n",
       "      <th></th>\n",
       "      <th></th>\n",
       "    </tr>\n",
       "  </thead>\n",
       "  <tbody>\n",
       "    <tr>\n",
       "      <th>4</th>\n",
       "      <td>41</td>\n",
       "      <td>4</td>\n",
       "      <td>9.756098</td>\n",
       "    </tr>\n",
       "    <tr>\n",
       "      <th>2</th>\n",
       "      <td>2052</td>\n",
       "      <td>194</td>\n",
       "      <td>9.454191</td>\n",
       "    </tr>\n",
       "    <tr>\n",
       "      <th>1</th>\n",
       "      <td>4808</td>\n",
       "      <td>444</td>\n",
       "      <td>9.234609</td>\n",
       "    </tr>\n",
       "    <tr>\n",
       "      <th>3</th>\n",
       "      <td>330</td>\n",
       "      <td>27</td>\n",
       "      <td>8.181818</td>\n",
       "    </tr>\n",
       "    <tr>\n",
       "      <th>0</th>\n",
       "      <td>14091</td>\n",
       "      <td>1063</td>\n",
       "      <td>7.543822</td>\n",
       "    </tr>\n",
       "    <tr>\n",
       "      <th>5</th>\n",
       "      <td>9</td>\n",
       "      <td>0</td>\n",
       "      <td>0.000000</td>\n",
       "    </tr>\n",
       "    <tr>\n",
       "      <th>All</th>\n",
       "      <td>21331</td>\n",
       "      <td>1732</td>\n",
       "      <td>8.119638</td>\n",
       "    </tr>\n",
       "  </tbody>\n",
       "</table>\n",
       "</div>"
      ],
      "text/plain": [
       "    количество заемщиков количество просрочек процент просрочек\n",
       "                                                               \n",
       "4                     41                    4          9.756098\n",
       "2                   2052                  194          9.454191\n",
       "1                   4808                  444          9.234609\n",
       "3                    330                   27          8.181818\n",
       "0                  14091                 1063          7.543822\n",
       "5                      9                    0          0.000000\n",
       "All                21331                 1732          8.119638"
      ]
     },
     "metadata": {},
     "output_type": "display_data"
    }
   ],
   "source": [
    "#столбец с коэффициентом просрочек умножаем на 100, переводя в проценты\n",
    "data_children_pivot['коэффициент просрочек'] = data_children_pivot['коэффициент просрочек']*100\n",
    "data_children_pivot = data_children_pivot.rename(columns={'коэффициент просрочек':'процент просрочек'}) #переименовываем столбец в проценты\n",
    "#сортируем данные по проценту должников\n",
    "data_children_pivot = pd.concat(\n",
    "    [data_children_pivot[data_children_pivot.index !='All'].sort_values(by='процент просрочек', ascending=False), \\\n",
    "     data_children_pivot[data_children_pivot.index =='All']]\n",
    ")\n",
    "display(data_children_pivot)"
   ]
  },
  {
   "cell_type": "code",
   "execution_count": 94,
   "id": "f0d141cf",
   "metadata": {},
   "outputs": [
    {
     "data": {
      "image/png": "[encoded data removed]",
      "text/plain": [
       "<Figure size 800x400 with 1 Axes>"
      ]
     },
     "metadata": {},
     "output_type": "display_data"
    }
   ],
   "source": [
    "data_children_pivot[data_children_pivot.index != \"All\"].plot(y='процент просрочек', kind='bar', grid=True, figsize=(8,4))\n",
    "plt.axhline(data_children_pivot[data_children_pivot.index == \"All\"]['процент просрочек'][0], color='r', label='средний % просрочек')\n",
    "plt.xlabel('количество детей у заемщика')\n",
    "plt.ylabel('процент просрочек в категории')\n",
    "plt.legend()\n",
    "plt.show()"
   ]
  },
  {
   "cell_type": "markdown",
   "id": "cadb481e",
   "metadata": {},
   "source": [
    "Получаем отсортированную таблицу, где понятно, что наибольший процент просрочек у клиентов с 1-4 детьми. Их процент просрочек по кредитам выше общего. Однако из рассматриваемых категорий можно исключить клиентов с пятью детьми (из-за незначительного количества), и тогда сделать вывод, что хуже возвращают кредит клиенты, у которых есть дети."
   ]
  },
  {
   "cell_type": "markdown",
   "id": "d1bbb062",
   "metadata": {
    "deletable": false,
    "id": "3a6b99ec"
   },
   "source": [
    "**Вывод:** \n",
    "**Полученные результаты говорят о том, что клиенты, имеющие детей, допускают больше просрочек. Клиенты без детей реже допускают просрочки**"
   ]
  },
  {
   "cell_type": "markdown",
   "id": "7bcaef29",
   "metadata": {
    "deletable": false,
    "editable": false,
    "id": "97be82ca"
   },
   "source": [
    "#### 3.2 Есть ли зависимость между семейным положением и возвратом кредита в срок?"
   ]
  },
  {
   "cell_type": "markdown",
   "id": "23217bf5",
   "metadata": {},
   "source": [
    "Дальнейшие расчеты носят схожий характер, поэтому будем сразу создавать сводную таблицу:"
   ]
  },
  {
   "cell_type": "code",
   "execution_count": 69,
   "id": "863d26b5",
   "metadata": {
    "deletable": false,
    "id": "dc3f7ee8"
   },
   "outputs": [
    {
     "data": {
      "text/html": [
       "<div>\n",
       "<style scoped>\n",
       "    .dataframe tbody tr th:only-of-type {\n",
       "        vertical-align: middle;\n",
       "    }\n",
       "\n",
       "    .dataframe tbody tr th {\n",
       "        vertical-align: top;\n",
       "    }\n",
       "\n",
       "    .dataframe thead tr th {\n",
       "        text-align: left;\n",
       "    }\n",
       "</style>\n",
       "<table border=\"1\" class=\"dataframe\">\n",
       "  <thead>\n",
       "    <tr>\n",
       "      <th></th>\n",
       "      <th>количество заемщиков</th>\n",
       "      <th>количество просрочек</th>\n",
       "      <th>процент просрочек</th>\n",
       "    </tr>\n",
       "    <tr>\n",
       "      <th></th>\n",
       "      <th></th>\n",
       "      <th></th>\n",
       "      <th></th>\n",
       "    </tr>\n",
       "  </thead>\n",
       "  <tbody>\n",
       "    <tr>\n",
       "      <th>Не женат / не замужем</th>\n",
       "      <td>2796</td>\n",
       "      <td>273</td>\n",
       "      <td>0.097639</td>\n",
       "    </tr>\n",
       "    <tr>\n",
       "      <th>в разводе</th>\n",
       "      <td>1189</td>\n",
       "      <td>84</td>\n",
       "      <td>0.070648</td>\n",
       "    </tr>\n",
       "    <tr>\n",
       "      <th>вдовец / вдова</th>\n",
       "      <td>951</td>\n",
       "      <td>63</td>\n",
       "      <td>0.066246</td>\n",
       "    </tr>\n",
       "    <tr>\n",
       "      <th>гражданский брак</th>\n",
       "      <td>4134</td>\n",
       "      <td>385</td>\n",
       "      <td>0.093130</td>\n",
       "    </tr>\n",
       "    <tr>\n",
       "      <th>женат / замужем</th>\n",
       "      <td>12261</td>\n",
       "      <td>927</td>\n",
       "      <td>0.075606</td>\n",
       "    </tr>\n",
       "    <tr>\n",
       "      <th>All</th>\n",
       "      <td>21331</td>\n",
       "      <td>1732</td>\n",
       "      <td>0.081196</td>\n",
       "    </tr>\n",
       "  </tbody>\n",
       "</table>\n",
       "</div>"
      ],
      "text/plain": [
       "                      количество заемщиков количество просрочек  \\\n",
       "                                                                  \n",
       "Не женат / не замужем                 2796                  273   \n",
       "в разводе                             1189                   84   \n",
       "вдовец / вдова                         951                   63   \n",
       "гражданский брак                      4134                  385   \n",
       "женат / замужем                      12261                  927   \n",
       "All                                  21331                 1732   \n",
       "\n",
       "                      процент просрочек  \n",
       "                                         \n",
       "Не женат / не замужем          0.097639  \n",
       "в разводе                      0.070648  \n",
       "вдовец / вдова                 0.066246  \n",
       "гражданский брак               0.093130  \n",
       "женат / замужем                0.075606  \n",
       "All                            0.081196  "
      ]
     },
     "metadata": {},
     "output_type": "display_data"
    }
   ],
   "source": [
    "data_family_pivot = data.pivot_table(index = 'family_status', values = 'debt', aggfunc = ['count','sum','mean'], margins=True) #создаем таблицу\n",
    "#причесываем для наглядности - меняем названия столбцов и удаляем название стобца, по которому происходит группировка, сразу же называем столбец mean как процент просрочек\n",
    "data_family_pivot = data_family_pivot.rename(columns= \\\n",
    "                                                 {'count':'количество заемщиков', 'debt': '', 'sum':'количество просрочек', 'mean':'процент просрочек'})\n",
    "data_family_pivot.index.name = None\n",
    "display(data_family_pivot)"
   ]
  },
  {
   "cell_type": "code",
   "execution_count": 70,
   "id": "2f99ee22",
   "metadata": {},
   "outputs": [
    {
     "data": {
      "text/html": [
       "<div>\n",
       "<style scoped>\n",
       "    .dataframe tbody tr th:only-of-type {\n",
       "        vertical-align: middle;\n",
       "    }\n",
       "\n",
       "    .dataframe tbody tr th {\n",
       "        vertical-align: top;\n",
       "    }\n",
       "\n",
       "    .dataframe thead tr th {\n",
       "        text-align: left;\n",
       "    }\n",
       "</style>\n",
       "<table border=\"1\" class=\"dataframe\">\n",
       "  <thead>\n",
       "    <tr>\n",
       "      <th></th>\n",
       "      <th>количество заемщиков</th>\n",
       "      <th>количество просрочек</th>\n",
       "      <th>процент просрочек</th>\n",
       "    </tr>\n",
       "    <tr>\n",
       "      <th></th>\n",
       "      <th></th>\n",
       "      <th></th>\n",
       "      <th></th>\n",
       "    </tr>\n",
       "  </thead>\n",
       "  <tbody>\n",
       "    <tr>\n",
       "      <th>Не женат / не замужем</th>\n",
       "      <td>2796</td>\n",
       "      <td>273</td>\n",
       "      <td>9.763948</td>\n",
       "    </tr>\n",
       "    <tr>\n",
       "      <th>гражданский брак</th>\n",
       "      <td>4134</td>\n",
       "      <td>385</td>\n",
       "      <td>9.313014</td>\n",
       "    </tr>\n",
       "    <tr>\n",
       "      <th>женат / замужем</th>\n",
       "      <td>12261</td>\n",
       "      <td>927</td>\n",
       "      <td>7.560558</td>\n",
       "    </tr>\n",
       "    <tr>\n",
       "      <th>в разводе</th>\n",
       "      <td>1189</td>\n",
       "      <td>84</td>\n",
       "      <td>7.064760</td>\n",
       "    </tr>\n",
       "    <tr>\n",
       "      <th>вдовец / вдова</th>\n",
       "      <td>951</td>\n",
       "      <td>63</td>\n",
       "      <td>6.624606</td>\n",
       "    </tr>\n",
       "    <tr>\n",
       "      <th>All</th>\n",
       "      <td>21331</td>\n",
       "      <td>1732</td>\n",
       "      <td>8.119638</td>\n",
       "    </tr>\n",
       "  </tbody>\n",
       "</table>\n",
       "</div>"
      ],
      "text/plain": [
       "                      количество заемщиков количество просрочек  \\\n",
       "                                                                  \n",
       "Не женат / не замужем                 2796                  273   \n",
       "гражданский брак                      4134                  385   \n",
       "женат / замужем                      12261                  927   \n",
       "в разводе                             1189                   84   \n",
       "вдовец / вдова                         951                   63   \n",
       "All                                  21331                 1732   \n",
       "\n",
       "                      процент просрочек  \n",
       "                                         \n",
       "Не женат / не замужем          9.763948  \n",
       "гражданский брак               9.313014  \n",
       "женат / замужем                7.560558  \n",
       "в разводе                      7.064760  \n",
       "вдовец / вдова                 6.624606  \n",
       "All                            8.119638  "
      ]
     },
     "metadata": {},
     "output_type": "display_data"
    }
   ],
   "source": [
    "data_family_pivot['процент просрочек'] = data_family_pivot['процент просрочек']*100\n",
    "#сортируем данные по проценту должников\n",
    "data_family_pivot = pd.concat(\n",
    "    [data_family_pivot[data_family_pivot.index !='All'].sort_values(by='процент просрочек', ascending=False), \\\n",
    "     data_family_pivot[data_family_pivot.index =='All']]\n",
    ")\n",
    "display(data_family_pivot)"
   ]
  },
  {
   "cell_type": "code",
   "execution_count": 96,
   "id": "1021c7be",
   "metadata": {},
   "outputs": [
    {
     "data": {
      "image/png": "[encoded data removed]",
      "text/plain": [
       "<Figure size 800x400 with 1 Axes>"
      ]
     },
     "metadata": {},
     "output_type": "display_data"
    }
   ],
   "source": [
    "data_family_pivot[data_family_pivot.index != \"All\"].plot(y='процент просрочек', kind='bar', grid=True, figsize=(8,4))\n",
    "plt.axhline(data_family_pivot[data_family_pivot.index == \"All\"]['процент просрочек'][0], color='r', label='средний % просрочек')\n",
    "plt.xlabel('семейное положение заемщика')\n",
    "plt.xticks(rotation=30)\n",
    "plt.ylabel('процент просрочек в категории')\n",
    "plt.legend()\n",
    "plt.show()"
   ]
  },
  {
   "cell_type": "markdown",
   "id": "4c24bbc1",
   "metadata": {
    "deletable": false,
    "id": "1cef7837"
   },
   "source": [
    "**Вывод: заемщики, не состоящие в браке, либо не зарегистрировавшие отношения, допускают большее количество просрочек** "
   ]
  },
  {
   "cell_type": "markdown",
   "id": "3212978b",
   "metadata": {
    "deletable": false,
    "editable": false,
    "id": "1e8b2fca"
   },
   "source": [
    "#### 3.3 Есть ли зависимость между уровнем дохода и возвратом кредита в срок?"
   ]
  },
  {
   "cell_type": "code",
   "execution_count": 71,
   "id": "8c7fa371",
   "metadata": {
    "deletable": false,
    "id": "cd7e3720"
   },
   "outputs": [
    {
     "data": {
      "text/html": [
       "<div>\n",
       "<style scoped>\n",
       "    .dataframe tbody tr th:only-of-type {\n",
       "        vertical-align: middle;\n",
       "    }\n",
       "\n",
       "    .dataframe tbody tr th {\n",
       "        vertical-align: top;\n",
       "    }\n",
       "\n",
       "    .dataframe thead tr th {\n",
       "        text-align: left;\n",
       "    }\n",
       "</style>\n",
       "<table border=\"1\" class=\"dataframe\">\n",
       "  <thead>\n",
       "    <tr>\n",
       "      <th></th>\n",
       "      <th>количество заемщиков</th>\n",
       "      <th>количество просрочек</th>\n",
       "      <th>процент просрочек</th>\n",
       "    </tr>\n",
       "    <tr>\n",
       "      <th></th>\n",
       "      <th></th>\n",
       "      <th></th>\n",
       "      <th></th>\n",
       "    </tr>\n",
       "  </thead>\n",
       "  <tbody>\n",
       "    <tr>\n",
       "      <th>E</th>\n",
       "      <td>22</td>\n",
       "      <td>2</td>\n",
       "      <td>9.090909</td>\n",
       "    </tr>\n",
       "    <tr>\n",
       "      <th>C</th>\n",
       "      <td>15921</td>\n",
       "      <td>1353</td>\n",
       "      <td>8.498210</td>\n",
       "    </tr>\n",
       "    <tr>\n",
       "      <th>A</th>\n",
       "      <td>25</td>\n",
       "      <td>2</td>\n",
       "      <td>8.000000</td>\n",
       "    </tr>\n",
       "    <tr>\n",
       "      <th>B</th>\n",
       "      <td>5014</td>\n",
       "      <td>354</td>\n",
       "      <td>7.060231</td>\n",
       "    </tr>\n",
       "    <tr>\n",
       "      <th>D</th>\n",
       "      <td>349</td>\n",
       "      <td>21</td>\n",
       "      <td>6.017192</td>\n",
       "    </tr>\n",
       "    <tr>\n",
       "      <th>All</th>\n",
       "      <td>21331</td>\n",
       "      <td>1732</td>\n",
       "      <td>8.119638</td>\n",
       "    </tr>\n",
       "  </tbody>\n",
       "</table>\n",
       "</div>"
      ],
      "text/plain": [
       "    количество заемщиков количество просрочек процент просрочек\n",
       "                                                               \n",
       "E                     22                    2          9.090909\n",
       "C                  15921                 1353          8.498210\n",
       "A                     25                    2          8.000000\n",
       "B                   5014                  354          7.060231\n",
       "D                    349                   21          6.017192\n",
       "All                21331                 1732          8.119638"
      ]
     },
     "metadata": {},
     "output_type": "display_data"
    }
   ],
   "source": [
    "data_income_pivot = data.pivot_table(index = 'total_income_category', values = 'debt', \\\n",
    "                                     aggfunc = ['count','sum','mean'], margins=True)\n",
    "data_income_pivot = data_income_pivot.rename(columns= \\\n",
    "                      {'count':'количество заемщиков', 'debt': '', 'sum':'количество просрочек', 'mean':'процент просрочек'})\n",
    "data_income_pivot.index.name = None\n",
    "data_income_pivot['процент просрочек'] = data_income_pivot['процент просрочек']*100\n",
    "data_income_pivot = pd.concat(\n",
    "    [data_income_pivot[data_income_pivot.index != \"All\"].sort_values(by='процент просрочек', ascending=False), \\\n",
    "     data_income_pivot[data_income_pivot.index == \"All\"]]\n",
    ")\n",
    "display(data_income_pivot)"
   ]
  },
  {
   "cell_type": "code",
   "execution_count": 101,
   "id": "70ff9edc",
   "metadata": {},
   "outputs": [
    {
     "data": {
      "image/png": "[encoded data removed]",
      "text/plain": [
       "<Figure size 800x400 with 1 Axes>"
      ]
     },
     "metadata": {},
     "output_type": "display_data"
    }
   ],
   "source": [
    "data_income_pivot[data_income_pivot.index != \"All\"].plot(y='процент просрочек', kind='bar', grid=True, figsize=(8,4))\n",
    "plt.axhline(data_income_pivot[data_income_pivot.index == \"All\"]['процент просрочек'][0], color='r', label='средний % просрочек')\n",
    "plt.xlabel('категория заемщика')\n",
    "plt.ylabel('процент просрочек в категории')\n",
    "plt.legend()\n",
    "plt.show()"
   ]
  },
  {
   "cell_type": "markdown",
   "id": "b538a88f",
   "metadata": {},
   "source": [
    "Видим, что процент просрочек больше общего у категории Е и С. Это клиенты с уровнем дохода до 30 тыс и от 50 до 200 тыс."
   ]
  },
  {
   "cell_type": "markdown",
   "id": "cb7a22ae",
   "metadata": {
    "deletable": false,
    "id": "e8593def"
   },
   "source": [
    "**Вывод: более тщательную проверку необходим производить при одобрении клиентов с уровнем дохода до 30 000 (кат D) и от 50 до 200 тысяч (кат С)** "
   ]
  },
  {
   "cell_type": "markdown",
   "id": "eefaa7cd",
   "metadata": {
    "deletable": false,
    "editable": false,
    "id": "99ecbd1f"
   },
   "source": [
    "#### 3.4 Как разные цели кредита влияют на его возврат в срок?"
   ]
  },
  {
   "cell_type": "code",
   "execution_count": 103,
   "id": "729bd9aa",
   "metadata": {
    "deletable": false,
    "id": "2b687290"
   },
   "outputs": [
    {
     "data": {
      "text/html": [
       "<div>\n",
       "<style scoped>\n",
       "    .dataframe tbody tr th:only-of-type {\n",
       "        vertical-align: middle;\n",
       "    }\n",
       "\n",
       "    .dataframe tbody tr th {\n",
       "        vertical-align: top;\n",
       "    }\n",
       "\n",
       "    .dataframe thead tr th {\n",
       "        text-align: left;\n",
       "    }\n",
       "</style>\n",
       "<table border=\"1\" class=\"dataframe\">\n",
       "  <thead>\n",
       "    <tr>\n",
       "      <th></th>\n",
       "      <th>количество заемщиков</th>\n",
       "      <th>количество просрочек</th>\n",
       "      <th>процент просрочек</th>\n",
       "    </tr>\n",
       "    <tr>\n",
       "      <th></th>\n",
       "      <th></th>\n",
       "      <th></th>\n",
       "      <th></th>\n",
       "    </tr>\n",
       "  </thead>\n",
       "  <tbody>\n",
       "    <tr>\n",
       "      <th>операции с автомобилем</th>\n",
       "      <td>4279</td>\n",
       "      <td>400</td>\n",
       "      <td>9.347978</td>\n",
       "    </tr>\n",
       "    <tr>\n",
       "      <th>получение образования</th>\n",
       "      <td>3988</td>\n",
       "      <td>369</td>\n",
       "      <td>9.252758</td>\n",
       "    </tr>\n",
       "    <tr>\n",
       "      <th>проведение свадьбы</th>\n",
       "      <td>2313</td>\n",
       "      <td>183</td>\n",
       "      <td>7.911803</td>\n",
       "    </tr>\n",
       "    <tr>\n",
       "      <th>операции с недвижимостью</th>\n",
       "      <td>10751</td>\n",
       "      <td>780</td>\n",
       "      <td>7.255139</td>\n",
       "    </tr>\n",
       "    <tr>\n",
       "      <th>All</th>\n",
       "      <td>21331</td>\n",
       "      <td>1732</td>\n",
       "      <td>8.119638</td>\n",
       "    </tr>\n",
       "  </tbody>\n",
       "</table>\n",
       "</div>"
      ],
      "text/plain": [
       "                         количество заемщиков количество просрочек  \\\n",
       "                                                                     \n",
       "операции с автомобилем                   4279                  400   \n",
       "получение образования                    3988                  369   \n",
       "проведение свадьбы                       2313                  183   \n",
       "операции с недвижимостью                10751                  780   \n",
       "All                                     21331                 1732   \n",
       "\n",
       "                         процент просрочек  \n",
       "                                            \n",
       "операции с автомобилем            9.347978  \n",
       "получение образования             9.252758  \n",
       "проведение свадьбы                7.911803  \n",
       "операции с недвижимостью          7.255139  \n",
       "All                               8.119638  "
      ]
     },
     "metadata": {},
     "output_type": "display_data"
    }
   ],
   "source": [
    "data_purpose_pivot = data.pivot_table(index = 'purpose_category', values = 'debt', \\\n",
    "                                      aggfunc = ['count','sum','mean'], margins=True)\n",
    "data_purpose_pivot = data_purpose_pivot.rename(columns= \\\n",
    "                                               {'count':'количество заемщиков', 'debt': '', 'sum':'количество просрочек', 'mean':'процент просрочек'})\n",
    "data_purpose_pivot.index.name = None\n",
    "data_purpose_pivot['процент просрочек'] = data_purpose_pivot['процент просрочек']*100\n",
    "data_purpose_pivot = pd.concat(\n",
    "    [data_purpose_pivot[data_purpose_pivot.index != \"All\"].sort_values(by='процент просрочек', ascending=False), \\\n",
    "     data_purpose_pivot[data_purpose_pivot.index == \"All\"]]\n",
    ")\n",
    "display(data_purpose_pivot)"
   ]
  },
  {
   "cell_type": "code",
   "execution_count": 105,
   "id": "fb90a176",
   "metadata": {},
   "outputs": [
    {
     "data": {
      "image/png": "[encoded data removed]",
      "text/plain": [
       "<Figure size 800x400 with 1 Axes>"
      ]
     },
     "metadata": {},
     "output_type": "display_data"
    }
   ],
   "source": [
    "data_purpose_pivot[data_purpose_pivot.index != \"All\"].plot(y='процент просрочек', kind='bar', grid=True, figsize=(8,4))\n",
    "plt.axhline(data_purpose_pivot[data_purpose_pivot.index == \"All\"]['процент просрочек'][0], color='r', label='средний % просрочек')\n",
    "plt.xlabel('категория цели кредита')\n",
    "plt.xticks(rotation=30)\n",
    "plt.ylabel('процент просрочек в категории')\n",
    "plt.legend()\n",
    "plt.show()"
   ]
  },
  {
   "cell_type": "markdown",
   "id": "fcf5effe",
   "metadata": {
    "deletable": false,
    "id": "b4bb2ce6"
   },
   "source": [
    "**Вывод: большее количество просрочек у клиентов, взявших кредиты на получение образования или покупку автомобиля** "
   ]
  },
  {
   "cell_type": "markdown",
   "id": "31cbd46b",
   "metadata": {
    "deletable": false,
    "editable": false,
    "id": "09c3ac4c"
   },
   "source": [
    "#### 3.5 Приведите возможные причины появления пропусков в исходных данных."
   ]
  },
  {
   "cell_type": "markdown",
   "id": "b6caa101",
   "metadata": {
    "deletable": false,
    "id": "9da2ceda"
   },
   "source": [
    "*Ответ:* Вероятнее всего, пропуски возникли по ошибке. Они характерны для столбцов \"дни трудоустройства\" и \"доход\", а без указания работы и дохода невозможо получить одобрение по заявке, поэтому такие пропуски могут быть ошибкой при выгрузке."
   ]
  },
  {
   "cell_type": "markdown",
   "id": "be2850ea",
   "metadata": {
    "deletable": false,
    "editable": false,
    "id": "7b0487d6"
   },
   "source": [
    "#### 3.6 Объясните, почему заполнить пропуски медианным значением — лучшее решение для количественных переменных."
   ]
  },
  {
   "cell_type": "markdown",
   "id": "b86f5020",
   "metadata": {
    "deletable": false,
    "id": "7ecf2b8e"
   },
   "source": [
    "*Ответ:* медианное значение - более усредненное. На него менее влияют сильные перекосы максимального или минимального значения в переменных. Например, в сумме дохода у некоторых клиентов может быть значение 1 000 000, но у большинства оно будет колебаться от 30 000 до 100 000. При этом медианное значение даст нам среднее большинства, а не общее среднее."
   ]
  },
  {
   "cell_type": "markdown",
   "id": "a703c499",
   "metadata": {
    "deletable": false,
    "editable": false,
    "id": "6db5255a"
   },
   "source": [
    "### Шаг 4: общий вывод."
   ]
  },
  {
   "cell_type": "markdown",
   "id": "52a9e6cd",
   "metadata": {
    "deletable": false,
    "id": "bad65432"
   },
   "source": [
    "Мы рассмотрели просрочки заемщиков с точки зрения четырех параметров:\n",
    "  - количество детей\n",
    "  - семейное положение\n",
    "  - уровень дохода\n",
    "  - цель получения кредита\n",
    "\n",
    "Определив общий процент просрочек, в каждой категории выявили \"группы риска\" - тех заемщиков, чей процент невозврата кредита выше среднего."
   ]
  },
  {
   "cell_type": "markdown",
   "id": "cdba2fd3",
   "metadata": {},
   "source": [
    "Таким образом мы получили понимание, что:\n",
    "  - клиенты без детей являются более надежными заемщиками, чем клиенты с детьми\n",
    "  - клиенты, не состоявшие никогда в браке, или не зарегистрировавшие брак официально, также являются менее надежными заемщиками\n",
    "  - клиенты с минимальным уровнем дохода, также как и клиенты со средним достатком, реже возвращают кредиты в срок\n",
    "  - кредиты, взятые для получения образования или покупки автомобиля, реже возвращаются клиентами без просрочек\n"
   ]
  },
  {
   "cell_type": "markdown",
   "id": "575d4e3f",
   "metadata": {},
   "source": [
    "Учитывая полученные данные, предлагается дополнительный \"ручной\" анализ заявки на кредит от вышеуказанных категорий заемщиков."
   ]
  }
 ],
 "metadata": {
  "ExecuteTimeLog": [
   {
    "duration": 602,
    "start_time": "2022-10-10T12:11:59.452Z"
   },
   {
    "duration": 23,
    "start_time": "2022-10-10T12:12:00.056Z"
   },
   {
    "duration": 33,
    "start_time": "2022-10-10T12:12:00.080Z"
   },
   {
    "duration": 12,
    "start_time": "2022-10-10T12:12:00.115Z"
   },
   {
    "duration": 65,
    "start_time": "2022-10-10T12:12:00.128Z"
   },
   {
    "duration": 3,
    "start_time": "2022-10-10T12:12:00.195Z"
   },
   {
    "duration": 24,
    "start_time": "2022-10-10T12:12:00.200Z"
   },
   {
    "duration": 31,
    "start_time": "2022-10-10T12:12:00.226Z"
   },
   {
    "duration": 20,
    "start_time": "2022-10-10T12:12:00.259Z"
   },
   {
    "duration": 34,
    "start_time": "2022-10-10T12:12:00.282Z"
   },
   {
    "duration": 79,
    "start_time": "2022-10-10T12:12:00.318Z"
   },
   {
    "duration": 12,
    "start_time": "2022-10-10T12:12:00.399Z"
   },
   {
    "duration": 48,
    "start_time": "2022-10-10T12:12:00.413Z"
   },
   {
    "duration": 34,
    "start_time": "2022-10-10T12:12:00.463Z"
   },
   {
    "duration": 91,
    "start_time": "2022-10-10T12:12:00.499Z"
   },
   {
    "duration": 62,
    "start_time": "2022-10-10T12:12:00.591Z"
   },
   {
    "duration": 43,
    "start_time": "2022-10-10T12:12:00.655Z"
   },
   {
    "duration": 87,
    "start_time": "2022-10-10T12:12:00.701Z"
   },
   {
    "duration": 38,
    "start_time": "2022-10-10T12:12:00.790Z"
   },
   {
    "duration": 70,
    "start_time": "2022-10-10T12:12:00.830Z"
   },
   {
    "duration": 67,
    "start_time": "2022-10-10T12:12:00.902Z"
   },
   {
    "duration": 24,
    "start_time": "2022-10-10T12:12:00.970Z"
   },
   {
    "duration": 29,
    "start_time": "2022-10-10T12:12:00.995Z"
   },
   {
    "duration": 66,
    "start_time": "2022-10-10T12:12:01.026Z"
   },
   {
    "duration": 58,
    "start_time": "2022-10-10T12:12:01.094Z"
   },
   {
    "duration": 65,
    "start_time": "2022-10-10T12:12:01.154Z"
   },
   {
    "duration": 50,
    "start_time": "2022-10-10T12:12:01.221Z"
   },
   {
    "duration": 99,
    "start_time": "2022-10-10T12:12:01.275Z"
   },
   {
    "duration": 20,
    "start_time": "2022-10-10T12:12:01.375Z"
   },
   {
    "duration": 123,
    "start_time": "2022-10-10T12:12:01.396Z"
   },
   {
    "duration": 18,
    "start_time": "2022-10-10T12:12:01.520Z"
   },
   {
    "duration": 117,
    "start_time": "2022-10-10T12:12:01.540Z"
   },
   {
    "duration": 85,
    "start_time": "2022-10-10T12:12:01.658Z"
   },
   {
    "duration": 491,
    "start_time": "2022-10-15T16:51:40.490Z"
   },
   {
    "duration": 23,
    "start_time": "2022-10-15T16:51:40.983Z"
   },
   {
    "duration": 14,
    "start_time": "2022-10-15T16:51:41.007Z"
   },
   {
    "duration": 9,
    "start_time": "2022-10-15T16:51:41.023Z"
   },
   {
    "duration": 47,
    "start_time": "2022-10-15T16:51:41.034Z"
   },
   {
    "duration": 3,
    "start_time": "2022-10-15T16:51:41.083Z"
   },
   {
    "duration": 13,
    "start_time": "2022-10-15T16:51:41.088Z"
   },
   {
    "duration": 4,
    "start_time": "2022-10-15T16:51:41.103Z"
   },
   {
    "duration": 21,
    "start_time": "2022-10-15T16:51:41.108Z"
   },
   {
    "duration": 9,
    "start_time": "2022-10-15T16:51:41.132Z"
   },
   {
    "duration": 32,
    "start_time": "2022-10-15T16:51:41.154Z"
   },
   {
    "duration": 9,
    "start_time": "2022-10-15T16:51:41.188Z"
   },
   {
    "duration": 6,
    "start_time": "2022-10-15T16:51:41.198Z"
   },
   {
    "duration": 14,
    "start_time": "2022-10-15T16:51:41.205Z"
   },
   {
    "duration": 43,
    "start_time": "2022-10-15T16:51:41.221Z"
   },
   {
    "duration": 18,
    "start_time": "2022-10-15T16:51:41.265Z"
   },
   {
    "duration": 4,
    "start_time": "2022-10-15T16:51:41.285Z"
   },
   {
    "duration": 16,
    "start_time": "2022-10-15T16:51:41.290Z"
   },
   {
    "duration": 6,
    "start_time": "2022-10-15T16:51:41.308Z"
   },
   {
    "duration": 44,
    "start_time": "2022-10-15T16:51:41.316Z"
   },
   {
    "duration": 27,
    "start_time": "2022-10-15T16:51:41.362Z"
   },
   {
    "duration": 4,
    "start_time": "2022-10-15T16:51:41.391Z"
   },
   {
    "duration": 8,
    "start_time": "2022-10-15T16:51:41.397Z"
   },
   {
    "duration": 13,
    "start_time": "2022-10-15T16:51:41.407Z"
   },
   {
    "duration": 10,
    "start_time": "2022-10-15T16:51:41.422Z"
   },
   {
    "duration": 6,
    "start_time": "2022-10-15T16:51:41.435Z"
   },
   {
    "duration": 18,
    "start_time": "2022-10-15T16:51:41.443Z"
   },
   {
    "duration": 71,
    "start_time": "2022-10-15T16:51:41.465Z"
   },
   {
    "duration": 24,
    "start_time": "2022-10-15T16:51:41.539Z"
   },
   {
    "duration": 9,
    "start_time": "2022-10-15T16:52:08.349Z"
   },
   {
    "duration": 5,
    "start_time": "2022-10-15T16:52:14.049Z"
   },
   {
    "duration": 10,
    "start_time": "2022-10-15T16:53:26.044Z"
   },
   {
    "duration": 12,
    "start_time": "2022-10-15T16:53:43.427Z"
   },
   {
    "duration": 14,
    "start_time": "2022-10-15T16:54:15.301Z"
   },
   {
    "duration": 12,
    "start_time": "2022-10-15T16:54:26.103Z"
   },
   {
    "duration": 13,
    "start_time": "2022-10-15T16:54:50.216Z"
   },
   {
    "duration": 12,
    "start_time": "2022-10-15T16:55:27.705Z"
   },
   {
    "duration": 15,
    "start_time": "2022-10-15T16:55:30.973Z"
   },
   {
    "duration": 13,
    "start_time": "2022-10-15T16:55:38.316Z"
   },
   {
    "duration": 14,
    "start_time": "2022-10-15T16:56:21.108Z"
   },
   {
    "duration": 61,
    "start_time": "2022-10-15T17:00:20.750Z"
   },
   {
    "duration": 16,
    "start_time": "2022-10-15T17:00:20.813Z"
   },
   {
    "duration": 33,
    "start_time": "2022-10-15T17:00:20.830Z"
   },
   {
    "duration": 17,
    "start_time": "2022-10-15T17:00:20.865Z"
   },
   {
    "duration": 50,
    "start_time": "2022-10-15T17:00:20.884Z"
   },
   {
    "duration": 3,
    "start_time": "2022-10-15T17:00:20.936Z"
   },
   {
    "duration": 25,
    "start_time": "2022-10-15T17:00:20.941Z"
   },
   {
    "duration": 31,
    "start_time": "2022-10-15T17:00:20.968Z"
   },
   {
    "duration": 27,
    "start_time": "2022-10-15T17:00:21.001Z"
   },
   {
    "duration": 27,
    "start_time": "2022-10-15T17:00:21.031Z"
   },
   {
    "duration": 57,
    "start_time": "2022-10-15T17:00:21.060Z"
   },
   {
    "duration": 9,
    "start_time": "2022-10-15T17:00:21.119Z"
   },
   {
    "duration": 29,
    "start_time": "2022-10-15T17:00:21.130Z"
   },
   {
    "duration": 26,
    "start_time": "2022-10-15T17:00:21.161Z"
   },
   {
    "duration": 38,
    "start_time": "2022-10-15T17:00:21.188Z"
   },
   {
    "duration": 21,
    "start_time": "2022-10-15T17:00:21.228Z"
   },
   {
    "duration": 7,
    "start_time": "2022-10-15T17:00:21.251Z"
   },
   {
    "duration": 41,
    "start_time": "2022-10-15T17:00:21.259Z"
   },
   {
    "duration": 25,
    "start_time": "2022-10-15T17:00:21.302Z"
   },
   {
    "duration": 11,
    "start_time": "2022-10-15T17:00:21.328Z"
   },
   {
    "duration": 43,
    "start_time": "2022-10-15T17:00:21.341Z"
   },
   {
    "duration": 30,
    "start_time": "2022-10-15T17:00:21.385Z"
   },
   {
    "duration": 21,
    "start_time": "2022-10-15T17:00:21.417Z"
   },
   {
    "duration": 29,
    "start_time": "2022-10-15T17:00:21.440Z"
   },
   {
    "duration": 61,
    "start_time": "2022-10-15T17:00:21.471Z"
   },
   {
    "duration": 26,
    "start_time": "2022-10-15T17:00:21.534Z"
   },
   {
    "duration": 14,
    "start_time": "2022-10-15T17:00:21.562Z"
   },
   {
    "duration": 71,
    "start_time": "2022-10-15T17:00:21.581Z"
   },
   {
    "duration": 22,
    "start_time": "2022-10-15T17:00:21.654Z"
   },
   {
    "duration": 48,
    "start_time": "2022-10-15T17:00:21.678Z"
   },
   {
    "duration": 80,
    "start_time": "2022-10-15T17:00:21.727Z"
   },
   {
    "duration": 15,
    "start_time": "2022-10-15T17:00:21.808Z"
   },
   {
    "duration": 79,
    "start_time": "2022-10-15T17:00:21.825Z"
   },
   {
    "duration": 61,
    "start_time": "2022-10-15T17:00:21.905Z"
   },
   {
    "duration": 464,
    "start_time": "2022-10-15T17:01:04.809Z"
   },
   {
    "duration": 12,
    "start_time": "2022-10-15T17:03:33.621Z"
   },
   {
    "duration": 17,
    "start_time": "2022-10-15T17:05:09.946Z"
   },
   {
    "duration": 19,
    "start_time": "2022-10-15T17:05:13.926Z"
   },
   {
    "duration": 332,
    "start_time": "2022-10-15T17:06:17.567Z"
   },
   {
    "duration": 197,
    "start_time": "2022-10-15T17:06:54.550Z"
   },
   {
    "duration": 210,
    "start_time": "2022-10-15T17:07:21.180Z"
   },
   {
    "duration": 20,
    "start_time": "2022-10-15T17:07:24.631Z"
   },
   {
    "duration": 13,
    "start_time": "2022-10-15T17:07:37.960Z"
   },
   {
    "duration": 10,
    "start_time": "2022-10-15T17:07:45.673Z"
   },
   {
    "duration": 19,
    "start_time": "2022-10-15T17:07:52.532Z"
   },
   {
    "duration": 17,
    "start_time": "2022-10-15T17:09:21.968Z"
   },
   {
    "duration": 53,
    "start_time": "2022-10-15T17:11:30.169Z"
   },
   {
    "duration": 119,
    "start_time": "2022-10-15T17:11:45.508Z"
   },
   {
    "duration": 19,
    "start_time": "2022-10-15T17:11:58.990Z"
   },
   {
    "duration": 21,
    "start_time": "2022-10-15T17:12:02.999Z"
   },
   {
    "duration": 21,
    "start_time": "2022-10-15T17:12:14.560Z"
   },
   {
    "duration": 19,
    "start_time": "2022-10-15T17:12:34.290Z"
   },
   {
    "duration": 141,
    "start_time": "2022-10-15T17:15:47.287Z"
   },
   {
    "duration": 12,
    "start_time": "2022-10-15T17:16:28.727Z"
   },
   {
    "duration": 127,
    "start_time": "2022-10-15T17:16:38.315Z"
   },
   {
    "duration": 367,
    "start_time": "2022-10-15T17:17:13.158Z"
   },
   {
    "duration": 288,
    "start_time": "2022-10-15T17:17:21.516Z"
   },
   {
    "duration": 200,
    "start_time": "2022-10-15T17:17:40.898Z"
   },
   {
    "duration": 202,
    "start_time": "2022-10-15T17:18:07.099Z"
   },
   {
    "duration": 133,
    "start_time": "2022-10-15T17:18:39.559Z"
   },
   {
    "duration": 243,
    "start_time": "2022-10-15T17:18:46.913Z"
   },
   {
    "duration": 249,
    "start_time": "2022-10-15T17:18:53.959Z"
   }
  ],
  "colab": {
   "name": "dpp_template_part2.ipynb",
   "provenance": []
  },
  "kernelspec": {
   "display_name": "Python 3 (ipykernel)",
   "language": "python",
   "name": "python3"
  },
  "language_info": {
   "codemirror_mode": {
    "name": "ipython",
    "version": 3
   },
   "file_extension": ".py",
   "mimetype": "text/x-python",
   "name": "python",
   "nbconvert_exporter": "python",
   "pygments_lexer": "ipython3",
   "version": "3.9.13"
  },
  "toc": {
   "base_numbering": 1,
   "nav_menu": {},
   "number_sections": true,
   "sideBar": true,
   "skip_h1_title": true,
   "title_cell": "Table of Contents",
   "title_sidebar": "Contents",
   "toc_cell": false,
   "toc_position": {
    "height": "calc(100% - 180px)",
    "left": "10px",
    "top": "150px",
    "width": "306.4px"
   },
   "toc_section_display": true,
   "toc_window_display": true
  }
 },
 "nbformat": 4,
 "nbformat_minor": 5
}
